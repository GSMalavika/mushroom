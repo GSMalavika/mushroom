{
  "metadata": {
    "kernelspec": {
      "language": "python",
      "display_name": "Python 3",
      "name": "python3"
    },
    "language_info": {
      "name": "python",
      "version": "3.10.13",
      "mimetype": "text/x-python",
      "codemirror_mode": {
        "name": "ipython",
        "version": 3
      },
      "pygments_lexer": "ipython3",
      "nbconvert_exporter": "python",
      "file_extension": ".py"
    },
    "kaggle": {
      "accelerator": "none",
      "dataSources": [
        {
          "sourceId": 974,
          "sourceType": "datasetVersion",
          "datasetId": 478
        }
      ],
      "dockerImageVersionId": 30732,
      "isInternetEnabled": true,
      "language": "python",
      "sourceType": "notebook",
      "isGpuEnabled": false
    },
    "colab": {
      "provenance": []
    }
  },
  "nbformat_minor": 0,
  "nbformat": 4,
  "cells": [
    {
      "source": [
        "\n",
        "# IMPORTANT: RUN THIS CELL IN ORDER TO IMPORT YOUR KAGGLE DATA SOURCES\n",
        "# TO THE CORRECT LOCATION (/kaggle/input) IN YOUR NOTEBOOK,\n",
        "# THEN FEEL FREE TO DELETE THIS CELL.\n",
        "# NOTE: THIS NOTEBOOK ENVIRONMENT DIFFERS FROM KAGGLE'S PYTHON\n",
        "# ENVIRONMENT SO THERE MAY BE MISSING LIBRARIES USED BY YOUR\n",
        "# NOTEBOOK.\n",
        "\n",
        "import os\n",
        "import sys\n",
        "from tempfile import NamedTemporaryFile\n",
        "from urllib.request import urlopen\n",
        "from urllib.parse import unquote, urlparse\n",
        "from urllib.error import HTTPError\n",
        "from zipfile import ZipFile\n",
        "import tarfile\n",
        "import shutil\n",
        "\n",
        "CHUNK_SIZE = 40960\n",
        "DATA_SOURCE_MAPPING = 'mushroom-classification:https%3A%2F%2Fstorage.googleapis.com%2Fkaggle-data-sets%2F478%2F974%2Fbundle%2Farchive.zip%3FX-Goog-Algorithm%3DGOOG4-RSA-SHA256%26X-Goog-Credential%3Dgcp-kaggle-com%2540kaggle-161607.iam.gserviceaccount.com%252F20240609%252Fauto%252Fstorage%252Fgoog4_request%26X-Goog-Date%3D20240609T042019Z%26X-Goog-Expires%3D259200%26X-Goog-SignedHeaders%3Dhost%26X-Goog-Signature%3D869794528a769b25b747fe7bd658137007d590b09fab38472386e058bd90a328ff88fe5e1b498a523ef36cd5e4503d79f2afc044ea8113644fe61f0ad1eeed0cc491ae8fe29d3a84f8765bb130e2834db9914f0034918e9293db7a402afe73c0ec5022daa3a81d2860512576766d2d40cf2a2a90630399f420d0a9cfe925423b8595a2f35a0f4ea808f9c477088792659471a15616b5726a4a43c62cb12d4093885101491f855c5ae2ae868e8bf8dca1a2e3bddca3c1139f6fe2771d32dbfa8a9b505f58925817a46c598b9cb75114ba882cbebea7399e42054161882dd46aeb8bc68db439729443f1ae4ee5a8e30a810063f4fb03e7f029e3935dd337f8c1e6'\n",
        "\n",
        "KAGGLE_INPUT_PATH='/kaggle/input'\n",
        "KAGGLE_WORKING_PATH='/kaggle/working'\n",
        "KAGGLE_SYMLINK='kaggle'\n",
        "\n",
        "!umount /kaggle/input/ 2> /dev/null\n",
        "shutil.rmtree('/kaggle/input', ignore_errors=True)\n",
        "os.makedirs(KAGGLE_INPUT_PATH, 0o777, exist_ok=True)\n",
        "os.makedirs(KAGGLE_WORKING_PATH, 0o777, exist_ok=True)\n",
        "\n",
        "try:\n",
        "  os.symlink(KAGGLE_INPUT_PATH, os.path.join(\"..\", 'input'), target_is_directory=True)\n",
        "except FileExistsError:\n",
        "  pass\n",
        "try:\n",
        "  os.symlink(KAGGLE_WORKING_PATH, os.path.join(\"..\", 'working'), target_is_directory=True)\n",
        "except FileExistsError:\n",
        "  pass\n",
        "\n",
        "for data_source_mapping in DATA_SOURCE_MAPPING.split(','):\n",
        "    directory, download_url_encoded = data_source_mapping.split(':')\n",
        "    download_url = unquote(download_url_encoded)\n",
        "    filename = urlparse(download_url).path\n",
        "    destination_path = os.path.join(KAGGLE_INPUT_PATH, directory)\n",
        "    try:\n",
        "        with urlopen(download_url) as fileres, NamedTemporaryFile() as tfile:\n",
        "            total_length = fileres.headers['content-length']\n",
        "            print(f'Downloading {directory}, {total_length} bytes compressed')\n",
        "            dl = 0\n",
        "            data = fileres.read(CHUNK_SIZE)\n",
        "            while len(data) > 0:\n",
        "                dl += len(data)\n",
        "                tfile.write(data)\n",
        "                done = int(50 * dl / int(total_length))\n",
        "                sys.stdout.write(f\"\\r[{'=' * done}{' ' * (50-done)}] {dl} bytes downloaded\")\n",
        "                sys.stdout.flush()\n",
        "                data = fileres.read(CHUNK_SIZE)\n",
        "            if filename.endswith('.zip'):\n",
        "              with ZipFile(tfile) as zfile:\n",
        "                zfile.extractall(destination_path)\n",
        "            else:\n",
        "              with tarfile.open(tfile.name) as tarfile:\n",
        "                tarfile.extractall(destination_path)\n",
        "            print(f'\\nDownloaded and uncompressed: {directory}')\n",
        "    except HTTPError as e:\n",
        "        print(f'Failed to load (likely expired) {download_url} to path {destination_path}')\n",
        "        continue\n",
        "    except OSError as e:\n",
        "        print(f'Failed to load {download_url} to path {destination_path}')\n",
        "        continue\n",
        "\n",
        "print('Data source import complete.')\n"
      ],
      "metadata": {
        "id": "89mjBniYOeaw"
      },
      "cell_type": "code",
      "outputs": [],
      "execution_count": null
    },
    {
      "cell_type": "code",
      "source": [
        "# This Python 3 environment comes with many helpful analytics libraries installed\n",
        "# It is defined by the kaggle/python Docker image: https://github.com/kaggle/docker-python\n",
        "# For example, here's several helpful packages to load\n",
        "\n",
        "import numpy as np # linear algebra\n",
        "import pandas as pd # data processing, CSV file I/O (e.g. pd.read_csv)\n",
        "\n",
        "# Input data files are available in the read-only \"../input/\" directory\n",
        "# For example, running this (by clicking run or pressing Shift+Enter) will list all files under the input directory\n",
        "\n",
        "import os\n",
        "for dirname, _, filenames in os.walk('/kaggle/input'):\n",
        "    for filename in filenames:\n",
        "        print(os.path.join(dirname, filename))\n",
        "\n",
        "# You can write up to 20GB to the current directory (/kaggle/working/) that gets preserved as output when you create a version using \"Save & Run All\"\n",
        "# You can also write temporary files to /kaggle/temp/, but they won't be saved outside of the current session"
      ],
      "metadata": {
        "_uuid": "8f2839f25d086af736a60e9eeb907d3b93b6e0e5",
        "_cell_guid": "b1076dfc-b9ad-4769-8c92-a6c4dae69d19",
        "execution": {
          "iopub.status.busy": "2024-06-06T05:33:09.97432Z",
          "iopub.execute_input": "2024-06-06T05:33:09.974718Z",
          "iopub.status.idle": "2024-06-06T05:33:10.319064Z",
          "shell.execute_reply.started": "2024-06-06T05:33:09.974685Z",
          "shell.execute_reply": "2024-06-06T05:33:10.317881Z"
        },
        "trusted": true,
        "id": "ga0cyMTUOea1"
      },
      "execution_count": null,
      "outputs": []
    },
    {
      "cell_type": "code",
      "source": [
        "# importing necessary libraries\n",
        "import numpy as np\n",
        "import pandas as pd\n",
        "import matplotlib.pyplot as plt\n",
        "import seaborn as sns\n",
        "%matplotlib inline\n",
        "import os"
      ],
      "metadata": {
        "execution": {
          "iopub.status.busy": "2024-06-06T05:33:10.320958Z",
          "iopub.execute_input": "2024-06-06T05:33:10.32151Z",
          "iopub.status.idle": "2024-06-06T05:33:10.513317Z",
          "shell.execute_reply.started": "2024-06-06T05:33:10.321464Z",
          "shell.execute_reply": "2024-06-06T05:33:10.512164Z"
        },
        "trusted": true,
        "id": "VnHfi8QYOea2"
      },
      "execution_count": null,
      "outputs": []
    },
    {
      "cell_type": "code",
      "source": [
        "# loading the mushroom dataset\n",
        "dataset=pd.read_csv(\"/kaggle/input/mushroom-classification/mushrooms.csv\")"
      ],
      "metadata": {
        "execution": {
          "iopub.status.busy": "2024-06-06T05:33:10.51461Z",
          "iopub.execute_input": "2024-06-06T05:33:10.51496Z",
          "iopub.status.idle": "2024-06-06T05:33:10.557236Z",
          "shell.execute_reply.started": "2024-06-06T05:33:10.514932Z",
          "shell.execute_reply": "2024-06-06T05:33:10.556174Z"
        },
        "trusted": true,
        "id": "tH6gRMEpOea2"
      },
      "execution_count": null,
      "outputs": []
    },
    {
      "cell_type": "code",
      "source": [
        "# lets look at our dataset\n",
        "print(dataset)"
      ],
      "metadata": {
        "execution": {
          "iopub.status.busy": "2024-06-06T05:33:10.559431Z",
          "iopub.execute_input": "2024-06-06T05:33:10.559756Z",
          "iopub.status.idle": "2024-06-06T05:33:10.583951Z",
          "shell.execute_reply.started": "2024-06-06T05:33:10.559722Z",
          "shell.execute_reply": "2024-06-06T05:33:10.582987Z"
        },
        "trusted": true,
        "id": "fRjHwYz9Oea3"
      },
      "execution_count": null,
      "outputs": []
    },
    {
      "cell_type": "code",
      "source": [
        "dataset.shape"
      ],
      "metadata": {
        "execution": {
          "iopub.status.busy": "2024-06-06T05:33:10.58515Z",
          "iopub.execute_input": "2024-06-06T05:33:10.585451Z",
          "iopub.status.idle": "2024-06-06T05:33:10.592318Z",
          "shell.execute_reply.started": "2024-06-06T05:33:10.585426Z",
          "shell.execute_reply": "2024-06-06T05:33:10.591324Z"
        },
        "trusted": true,
        "id": "GjMgnS-jOea3"
      },
      "execution_count": null,
      "outputs": []
    },
    {
      "cell_type": "code",
      "source": [
        "dataset.info()"
      ],
      "metadata": {
        "execution": {
          "iopub.status.busy": "2024-06-06T05:33:10.593369Z",
          "iopub.execute_input": "2024-06-06T05:33:10.593762Z",
          "iopub.status.idle": "2024-06-06T05:33:10.628281Z",
          "shell.execute_reply.started": "2024-06-06T05:33:10.593734Z",
          "shell.execute_reply": "2024-06-06T05:33:10.625709Z"
        },
        "trusted": true,
        "id": "-ffgJSefOea4"
      },
      "execution_count": null,
      "outputs": []
    },
    {
      "cell_type": "code",
      "source": [
        "#Let's separate input and output to variables X and y\n",
        "X=dataset.drop(['class'],axis=1)\n",
        "y=dataset['class']"
      ],
      "metadata": {
        "execution": {
          "iopub.status.busy": "2024-06-06T05:33:10.629536Z",
          "iopub.execute_input": "2024-06-06T05:33:10.629873Z",
          "iopub.status.idle": "2024-06-06T05:33:10.640044Z",
          "shell.execute_reply.started": "2024-06-06T05:33:10.62984Z",
          "shell.execute_reply": "2024-06-06T05:33:10.638857Z"
        },
        "trusted": true,
        "id": "WE8PI2ndOea4"
      },
      "execution_count": null,
      "outputs": []
    },
    {
      "cell_type": "code",
      "source": [
        "# Lets see the shape of X and y\n",
        "print(\"Shape of X :{}\".format(X.shape))\n",
        "print(\"Shape of y: {}\".format(y.shape))"
      ],
      "metadata": {
        "execution": {
          "iopub.status.busy": "2024-06-06T05:33:10.641325Z",
          "iopub.execute_input": "2024-06-06T05:33:10.642051Z",
          "iopub.status.idle": "2024-06-06T05:33:10.64924Z",
          "shell.execute_reply.started": "2024-06-06T05:33:10.642023Z",
          "shell.execute_reply": "2024-06-06T05:33:10.64828Z"
        },
        "trusted": true,
        "id": "pV7ds8iDOea5"
      },
      "execution_count": null,
      "outputs": []
    },
    {
      "cell_type": "code",
      "source": [
        "#Since X is object datatype convert it into int by pandas dummies\n",
        "from sklearn.preprocessing import OneHotEncoder\n",
        "enc=OneHotEncoder()\n",
        "X=enc.fit_transform(X)\n",
        "print(X)"
      ],
      "metadata": {
        "execution": {
          "iopub.status.busy": "2024-06-06T05:33:10.650504Z",
          "iopub.execute_input": "2024-06-06T05:33:10.650901Z",
          "iopub.status.idle": "2024-06-06T05:33:10.760935Z",
          "shell.execute_reply.started": "2024-06-06T05:33:10.650866Z",
          "shell.execute_reply": "2024-06-06T05:33:10.759729Z"
        },
        "trusted": true,
        "id": "PgYSERONOea5"
      },
      "execution_count": null,
      "outputs": []
    },
    {
      "cell_type": "code",
      "source": [
        "from sklearn.preprocessing import LabelEncoder\n",
        "le=LabelEncoder()\n",
        "y=le.fit_transform(y)\n",
        "print(y)"
      ],
      "metadata": {
        "execution": {
          "iopub.status.busy": "2024-06-06T05:34:16.796013Z",
          "iopub.execute_input": "2024-06-06T05:34:16.796402Z",
          "iopub.status.idle": "2024-06-06T05:34:16.804494Z",
          "shell.execute_reply.started": "2024-06-06T05:34:16.796371Z",
          "shell.execute_reply": "2024-06-06T05:34:16.803127Z"
        },
        "trusted": true,
        "id": "rf-rUefSOea6"
      },
      "execution_count": null,
      "outputs": []
    },
    {
      "cell_type": "code",
      "source": [
        "# lets split the X and y for training and testing\n",
        "from sklearn.model_selection import train_test_split\n",
        "X_train,X_test,y_train,y_test=train_test_split(X,y,test_size=0.2,random_state=1)"
      ],
      "metadata": {
        "execution": {
          "iopub.status.busy": "2024-06-06T05:59:07.193223Z",
          "iopub.execute_input": "2024-06-06T05:59:07.194141Z",
          "iopub.status.idle": "2024-06-06T05:59:07.295216Z",
          "shell.execute_reply.started": "2024-06-06T05:59:07.194106Z",
          "shell.execute_reply": "2024-06-06T05:59:07.294156Z"
        },
        "trusted": true,
        "id": "phwK5IT1Oea6"
      },
      "execution_count": null,
      "outputs": []
    },
    {
      "cell_type": "code",
      "source": [
        "from sklearn.tree import DecisionTreeClassifier\n",
        "from sklearn import tree"
      ],
      "metadata": {
        "execution": {
          "iopub.status.busy": "2024-06-06T05:59:13.383289Z",
          "iopub.execute_input": "2024-06-06T05:59:13.383684Z",
          "iopub.status.idle": "2024-06-06T05:59:13.540791Z",
          "shell.execute_reply.started": "2024-06-06T05:59:13.383651Z",
          "shell.execute_reply": "2024-06-06T05:59:13.539938Z"
        },
        "trusted": true,
        "id": "OL85cFIoOea6"
      },
      "execution_count": null,
      "outputs": []
    },
    {
      "cell_type": "code",
      "source": [
        "dt=DecisionTreeClassifier(criterion='gini',max_depth=3,random_state=0)\n",
        "dt.fit(X_train,y_train)"
      ],
      "metadata": {
        "execution": {
          "iopub.status.busy": "2024-06-06T06:01:04.107993Z",
          "iopub.execute_input": "2024-06-06T06:01:04.108368Z",
          "iopub.status.idle": "2024-06-06T06:01:04.13812Z",
          "shell.execute_reply.started": "2024-06-06T06:01:04.108337Z",
          "shell.execute_reply": "2024-06-06T06:01:04.137149Z"
        },
        "trusted": true,
        "id": "oLUslDl9Oea6"
      },
      "execution_count": null,
      "outputs": []
    },
    {
      "cell_type": "code",
      "source": [
        "plt.figure(figsize=(12,8))\n",
        "tree.plot_tree(dt.fit(X_train,y_train))"
      ],
      "metadata": {
        "execution": {
          "iopub.status.busy": "2024-06-06T06:01:58.854237Z",
          "iopub.execute_input": "2024-06-06T06:01:58.854637Z",
          "iopub.status.idle": "2024-06-06T06:01:59.527819Z",
          "shell.execute_reply.started": "2024-06-06T06:01:58.854607Z",
          "shell.execute_reply": "2024-06-06T06:01:59.526651Z"
        },
        "trusted": true,
        "id": "eL3LdevlOea6"
      },
      "execution_count": null,
      "outputs": []
    },
    {
      "cell_type": "code",
      "source": [
        "y_pred=dt.predict(X_test)\n",
        "y_train_pred=dt.predict(X_train)"
      ],
      "metadata": {
        "execution": {
          "iopub.status.busy": "2024-06-06T06:07:56.908756Z",
          "iopub.execute_input": "2024-06-06T06:07:56.909534Z",
          "iopub.status.idle": "2024-06-06T06:07:56.917182Z",
          "shell.execute_reply.started": "2024-06-06T06:07:56.9095Z",
          "shell.execute_reply": "2024-06-06T06:07:56.916249Z"
        },
        "trusted": true,
        "id": "mvcTd4aLOea7"
      },
      "execution_count": null,
      "outputs": []
    },
    {
      "cell_type": "code",
      "source": [
        "print(y_pred)\n",
        "print(y_train_pred)"
      ],
      "metadata": {
        "execution": {
          "iopub.status.busy": "2024-06-06T06:08:21.653186Z",
          "iopub.execute_input": "2024-06-06T06:08:21.653569Z",
          "iopub.status.idle": "2024-06-06T06:08:21.659591Z",
          "shell.execute_reply.started": "2024-06-06T06:08:21.653538Z",
          "shell.execute_reply": "2024-06-06T06:08:21.65839Z"
        },
        "trusted": true,
        "id": "Q-GIaqOWOea7"
      },
      "execution_count": null,
      "outputs": []
    },
    {
      "cell_type": "code",
      "source": [
        "from sklearn.metrics import confusion_matrix,accuracy_score\n",
        "print(confusion_matrix(y_test,y_pred))\n",
        "print(\"Model Accurcay on test data: {}\".format(accuracy_score(y_test,y_pred)))\n",
        "print(\"Training accuracy:{}\".format(accuracy_score(y_train,y_train_pred)))\n"
      ],
      "metadata": {
        "execution": {
          "iopub.status.busy": "2024-06-06T06:12:33.32018Z",
          "iopub.execute_input": "2024-06-06T06:12:33.320617Z",
          "iopub.status.idle": "2024-06-06T06:12:33.331662Z",
          "shell.execute_reply.started": "2024-06-06T06:12:33.320586Z",
          "shell.execute_reply": "2024-06-06T06:12:33.330614Z"
        },
        "trusted": true,
        "id": "56qbcAmBOea7"
      },
      "execution_count": null,
      "outputs": []
    }
  ]
}